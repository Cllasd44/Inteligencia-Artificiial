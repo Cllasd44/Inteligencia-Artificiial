{
  "nbformat": 4,
  "nbformat_minor": 0,
  "metadata": {
    "colab": {
      "provenance": [],
      "authorship_tag": "ABX9TyNUyCvqKJt9Sojb08CMXmtu",
      "include_colab_link": true
    },
    "kernelspec": {
      "name": "python3",
      "display_name": "Python 3"
    },
    "language_info": {
      "name": "python"
    }
  },
  "cells": [
    {
      "cell_type": "markdown",
      "metadata": {
        "id": "view-in-github",
        "colab_type": "text"
      },
      "source": [
        "<a href=\"https://colab.research.google.com/github/Cllasd44/Inteligencia-Artificiial/blob/main/PracticaSem10.ipynb\" target=\"_parent\"><img src=\"https://colab.research.google.com/assets/colab-badge.svg\" alt=\"Open In Colab\"/></a>"
      ]
    },
    {
      "cell_type": "markdown",
      "source": [
        "NUMPY LIBRARY"
      ],
      "metadata": {
        "id": "wEsSatpHg_5n"
      }
    },
    {
      "cell_type": "code",
      "source": [
        "import numpy as np\n"
      ],
      "metadata": {
        "id": "XTqP_3NChFc8"
      },
      "execution_count": null,
      "outputs": []
    },
    {
      "cell_type": "code",
      "source": [
        "print(np.__version__)"
      ],
      "metadata": {
        "colab": {
          "base_uri": "https://localhost:8080/"
        },
        "id": "Sr3c-Q8RhPUR",
        "outputId": "67bd1dba-1ab8-4c75-aec3-27b5048d5d54"
      },
      "execution_count": 3,
      "outputs": [
        {
          "output_type": "stream",
          "name": "stdout",
          "text": [
            "1.26.4\n"
          ]
        }
      ]
    },
    {
      "cell_type": "code",
      "source": [
        "elArray=np.array([1,2,3,4,5])\n",
        "print(elArray)"
      ],
      "metadata": {
        "colab": {
          "base_uri": "https://localhost:8080/"
        },
        "id": "O1nhgCp2hUPT",
        "outputId": "99f87257-7a65-4506-d9d0-b1deeed47762"
      },
      "execution_count": 6,
      "outputs": [
        {
          "output_type": "stream",
          "name": "stdout",
          "text": [
            "[1 2 3 4 5]\n"
          ]
        }
      ]
    },
    {
      "cell_type": "code",
      "source": [
        "print(type(elArray))"
      ],
      "metadata": {
        "colab": {
          "base_uri": "https://localhost:8080/"
        },
        "id": "_io3sVbiht4g",
        "outputId": "67e42c25-16f7-44cf-92f1-6cdc153d9b86"
      },
      "execution_count": 7,
      "outputs": [
        {
          "output_type": "stream",
          "name": "stdout",
          "text": [
            "<class 'numpy.ndarray'>\n"
          ]
        }
      ]
    },
    {
      "cell_type": "code",
      "source": [
        "print(elArray.shape)\n",
        "print(elArray[0])\n",
        "print(elArray[1])\n",
        "elArray[2]=8\n",
        "print(elArray)"
      ],
      "metadata": {
        "colab": {
          "base_uri": "https://localhost:8080/"
        },
        "id": "8Wi09U7gh6i_",
        "outputId": "c5dd7642-bd37-4a07-f5b1-ea40ae849fde"
      },
      "execution_count": 10,
      "outputs": [
        {
          "output_type": "stream",
          "name": "stdout",
          "text": [
            "(5,)\n",
            "1\n",
            "2\n",
            "[1 2 8 4 5]\n"
          ]
        }
      ]
    },
    {
      "cell_type": "code",
      "source": [
        "elArray2=np.array([[1,2,3],[4,5,6]])\n",
        "print(elArray2)\n",
        "print(elArray2.shape)"
      ],
      "metadata": {
        "colab": {
          "base_uri": "https://localhost:8080/"
        },
        "id": "DfJkNwBMiq8f",
        "outputId": "5b64fe11-f95d-433b-b819-852acbc842c7"
      },
      "execution_count": 11,
      "outputs": [
        {
          "output_type": "stream",
          "name": "stdout",
          "text": [
            "[[1 2 3]\n",
            " [4 5 6]]\n",
            "(2, 3)\n"
          ]
        }
      ]
    },
    {
      "cell_type": "code",
      "source": [
        "elArray3=np.zeros((5,5))\n",
        "print(elArray3)"
      ],
      "metadata": {
        "colab": {
          "base_uri": "https://localhost:8080/"
        },
        "id": "7tqHwOxOizHq",
        "outputId": "15e46f31-13ca-4ff8-cc79-6655ed31addb"
      },
      "execution_count": 12,
      "outputs": [
        {
          "output_type": "stream",
          "name": "stdout",
          "text": [
            "[[0. 0. 0. 0. 0.]\n",
            " [0. 0. 0. 0. 0.]\n",
            " [0. 0. 0. 0. 0.]\n",
            " [0. 0. 0. 0. 0.]\n",
            " [0. 0. 0. 0. 0.]]\n"
          ]
        }
      ]
    },
    {
      "cell_type": "code",
      "source": [
        "elArray3=np.full((5,5),8)\n",
        "print(elArray3)\n"
      ],
      "metadata": {
        "colab": {
          "base_uri": "https://localhost:8080/"
        },
        "id": "73dBTRbfjHP7",
        "outputId": "725d74f3-a1b8-40cb-e920-0946681f54f4"
      },
      "execution_count": 13,
      "outputs": [
        {
          "output_type": "stream",
          "name": "stdout",
          "text": [
            "[[8 8 8 8 8]\n",
            " [8 8 8 8 8]\n",
            " [8 8 8 8 8]\n",
            " [8 8 8 8 8]\n",
            " [8 8 8 8 8]]\n"
          ]
        }
      ]
    },
    {
      "cell_type": "code",
      "source": [
        "elArray3=np.eye(5)\n",
        "print(elArray3)"
      ],
      "metadata": {
        "colab": {
          "base_uri": "https://localhost:8080/"
        },
        "id": "2_ZmYhLNjeg9",
        "outputId": "04cb96d8-6983-4523-c6d6-ec9e6850c4a0"
      },
      "execution_count": 14,
      "outputs": [
        {
          "output_type": "stream",
          "name": "stdout",
          "text": [
            "[[1. 0. 0. 0. 0.]\n",
            " [0. 1. 0. 0. 0.]\n",
            " [0. 0. 1. 0. 0.]\n",
            " [0. 0. 0. 1. 0.]\n",
            " [0. 0. 0. 0. 1.]]\n"
          ]
        }
      ]
    },
    {
      "cell_type": "code",
      "source": [
        "elArray3=np.ones((5,5))\n",
        "print(elArray3)"
      ],
      "metadata": {
        "colab": {
          "base_uri": "https://localhost:8080/"
        },
        "id": "8-0if5_FjoDH",
        "outputId": "812d9f06-340c-4370-c94d-a915a9a647ab"
      },
      "execution_count": 15,
      "outputs": [
        {
          "output_type": "stream",
          "name": "stdout",
          "text": [
            "[[1. 1. 1. 1. 1.]\n",
            " [1. 1. 1. 1. 1.]\n",
            " [1. 1. 1. 1. 1.]\n",
            " [1. 1. 1. 1. 1.]\n",
            " [1. 1. 1. 1. 1.]]\n"
          ]
        }
      ]
    },
    {
      "cell_type": "code",
      "source": [
        "elArray3=np.random.random((5,5))\n",
        "print(elArray3)"
      ],
      "metadata": {
        "colab": {
          "base_uri": "https://localhost:8080/"
        },
        "id": "QjGwGi_OjzzB",
        "outputId": "fb436afb-0a7e-420e-849d-273b4deae513"
      },
      "execution_count": 16,
      "outputs": [
        {
          "output_type": "stream",
          "name": "stdout",
          "text": [
            "[[0.76327889 0.48246972 0.38609948 0.68361995 0.94703518]\n",
            " [0.17934735 0.2807657  0.01608796 0.22548485 0.92619119]\n",
            " [0.61397613 0.25817296 0.65822876 0.278803   0.43615772]\n",
            " [0.60764609 0.7029425  0.76063054 0.16802294 0.17311484]\n",
            " [0.05157194 0.42888055 0.75991007 0.06747177 0.64803264]]\n"
          ]
        }
      ]
    },
    {
      "cell_type": "code",
      "source": [
        "alArray4=np.array([[1,2,3,4],[5,6,7,8],[9,10,11,12]])\n",
        "print(alArray4)"
      ],
      "metadata": {
        "colab": {
          "base_uri": "https://localhost:8080/"
        },
        "id": "HIVu48Zuj5yh",
        "outputId": "5c5d9ae6-dbcd-4753-dbbf-6a88d708e4e3"
      },
      "execution_count": 17,
      "outputs": [
        {
          "output_type": "stream",
          "name": "stdout",
          "text": [
            "[[ 1  2  3  4]\n",
            " [ 5  6  7  8]\n",
            " [ 9 10 11 12]]\n"
          ]
        }
      ]
    },
    {
      "cell_type": "code",
      "source": [
        "elArray3=np.random.randint(10,size=6)\n",
        "print(elArray3)"
      ],
      "metadata": {
        "colab": {
          "base_uri": "https://localhost:8080/"
        },
        "id": "URK31_z4kGdh",
        "outputId": "f50d36b7-bf02-415c-f60c-813ce0285489"
      },
      "execution_count": 18,
      "outputs": [
        {
          "output_type": "stream",
          "name": "stdout",
          "text": [
            "[8 8 5 1 4 5]\n"
          ]
        }
      ]
    },
    {
      "cell_type": "code",
      "source": [
        "elArray3=np.random.randint(5,10,size=(6,6))\n",
        "print(elArray3)"
      ],
      "metadata": {
        "colab": {
          "base_uri": "https://localhost:8080/"
        },
        "id": "QQfKBEs_kZTY",
        "outputId": "0928abce-4f40-4955-c7ea-3f23da1dd81d"
      },
      "execution_count": 20,
      "outputs": [
        {
          "output_type": "stream",
          "name": "stdout",
          "text": [
            "[[8 7 7 7 7 6]\n",
            " [7 9 5 9 8 8]\n",
            " [9 7 5 7 9 7]\n",
            " [6 8 8 5 9 5]\n",
            " [8 8 7 8 7 8]\n",
            " [9 8 9 8 7 8]]\n"
          ]
        }
      ]
    },
    {
      "cell_type": "code",
      "source": [
        "laMatrix=elArray3[:2,1:3]\n",
        "print(laMatrix)"
      ],
      "metadata": {
        "colab": {
          "base_uri": "https://localhost:8080/"
        },
        "id": "i7Fkdld2kkhf",
        "outputId": "5b24ef44-d9f6-4ed4-f792-60c8b24ef824"
      },
      "execution_count": 21,
      "outputs": [
        {
          "output_type": "stream",
          "name": "stdout",
          "text": [
            "[[7 7]\n",
            " [9 5]]\n"
          ]
        }
      ]
    },
    {
      "cell_type": "code",
      "source": [
        "elArray3[1,2]=100\n",
        "print(elArray3)"
      ],
      "metadata": {
        "colab": {
          "base_uri": "https://localhost:8080/"
        },
        "id": "mAnUm49PlEpl",
        "outputId": "d90c9d3c-b9cb-4f65-fcb1-65350a70e43f"
      },
      "execution_count": 22,
      "outputs": [
        {
          "output_type": "stream",
          "name": "stdout",
          "text": [
            "[[  8   7   7   7   7   6]\n",
            " [  7   9 100   9   8   8]\n",
            " [  9   7   5   7   9   7]\n",
            " [  6   8   8   5   9   5]\n",
            " [  8   8   7   8   7   8]\n",
            " [  9   8   9   8   7   8]]\n"
          ]
        }
      ]
    },
    {
      "cell_type": "code",
      "source": [
        "print(elArray3[2,:])\n",
        "print(elArray3[:,1])"
      ],
      "metadata": {
        "colab": {
          "base_uri": "https://localhost:8080/"
        },
        "id": "OAdMIXBalokL",
        "outputId": "75f49b71-32bc-475f-f86c-990495ca2f1d"
      },
      "execution_count": 23,
      "outputs": [
        {
          "output_type": "stream",
          "name": "stdout",
          "text": [
            "[9 7 5 7 9 7]\n",
            "[7 9 7 8 8 8]\n"
          ]
        }
      ]
    },
    {
      "cell_type": "code",
      "source": [
        "print(elArray3[:,3].shape)"
      ],
      "metadata": {
        "colab": {
          "base_uri": "https://localhost:8080/"
        },
        "id": "55BAfyFYmB16",
        "outputId": "86fd3fdc-8d82-4ac0-f6f9-eefd357097d8"
      },
      "execution_count": 27,
      "outputs": [
        {
          "output_type": "stream",
          "name": "stdout",
          "text": [
            "(6,)\n"
          ]
        }
      ]
    },
    {
      "cell_type": "code",
      "source": [
        "print(elArray3[:,3:4].shape)"
      ],
      "metadata": {
        "colab": {
          "base_uri": "https://localhost:8080/"
        },
        "id": "h5qRZJxJmOPy",
        "outputId": "bfdb68db-6004-4843-cbcc-6f50da70f39e"
      },
      "execution_count": 28,
      "outputs": [
        {
          "output_type": "stream",
          "name": "stdout",
          "text": [
            "(6, 1)\n"
          ]
        }
      ]
    },
    {
      "cell_type": "code",
      "source": [
        "print(elArray3[2:,3:4])"
      ],
      "metadata": {
        "colab": {
          "base_uri": "https://localhost:8080/"
        },
        "id": "pA_Sl-CKnZbm",
        "outputId": "98a21095-0b48-436c-9e65-3bc89a713762"
      },
      "execution_count": 29,
      "outputs": [
        {
          "output_type": "stream",
          "name": "stdout",
          "text": [
            "[[7]\n",
            " [5]\n",
            " [8]\n",
            " [8]]\n"
          ]
        }
      ]
    },
    {
      "cell_type": "code",
      "source": [
        "unMatrix=elArray3[1:4,1:4]\n",
        "print(unMatrix)"
      ],
      "metadata": {
        "colab": {
          "base_uri": "https://localhost:8080/"
        },
        "id": "F8LzQ0RSoIH8",
        "outputId": "4f8174b9-9ca1-4407-90a4-6efffe0b54ef"
      },
      "execution_count": 30,
      "outputs": [
        {
          "output_type": "stream",
          "name": "stdout",
          "text": [
            "[[  9 100   9]\n",
            " [  7   5   7]\n",
            " [  8   8   5]]\n"
          ]
        }
      ]
    },
    {
      "cell_type": "code",
      "source": [],
      "metadata": {
        "id": "_wVggpkhonr6"
      },
      "execution_count": null,
      "outputs": []
    }
  ]
}