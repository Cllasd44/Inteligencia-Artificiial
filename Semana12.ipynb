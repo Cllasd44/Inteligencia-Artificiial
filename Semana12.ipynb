{
  "nbformat": 4,
  "nbformat_minor": 0,
  "metadata": {
    "colab": {
      "provenance": [],
      "authorship_tag": "ABX9TyMf9O7dop87nvdpE5YLbzR+",
      "include_colab_link": true
    },
    "kernelspec": {
      "name": "python3",
      "display_name": "Python 3"
    },
    "language_info": {
      "name": "python"
    }
  },
  "cells": [
    {
      "cell_type": "markdown",
      "metadata": {
        "id": "view-in-github",
        "colab_type": "text"
      },
      "source": [
        "<a href=\"https://colab.research.google.com/github/Cllasd44/Inteligencia-Artificiial/blob/main/Semana12.ipynb\" target=\"_parent\"><img src=\"https://colab.research.google.com/assets/colab-badge.svg\" alt=\"Open In Colab\"/></a>"
      ]
    },
    {
      "cell_type": "code",
      "execution_count": 2,
      "metadata": {
        "colab": {
          "base_uri": "https://localhost:8080/"
        },
        "id": "Dm-xKcBjlL6x",
        "outputId": "10f8ebce-37bb-4c23-e30d-93af2bed8474"
      },
      "outputs": [
        {
          "output_type": "stream",
          "name": "stdout",
          "text": [
            "(3, 4)\n"
          ]
        }
      ],
      "source": [
        "import numpy as np\n",
        "matrix1=np.array([[14,54,34,56],[12,23,56,34],[35,45,34,67]])\n",
        "print(matrix1.shape)"
      ]
    },
    {
      "cell_type": "code",
      "source": [
        "matrix1"
      ],
      "metadata": {
        "colab": {
          "base_uri": "https://localhost:8080/"
        },
        "id": "6sgggg9lnaas",
        "outputId": "f4df4c17-6060-4fdd-a21e-f1274ca21290"
      },
      "execution_count": 3,
      "outputs": [
        {
          "output_type": "execute_result",
          "data": {
            "text/plain": [
              "array([[14, 54, 34, 56],\n",
              "       [12, 23, 56, 34],\n",
              "       [35, 45, 34, 67]])"
            ]
          },
          "metadata": {},
          "execution_count": 3
        }
      ]
    },
    {
      "cell_type": "code",
      "source": [
        "print(matrix1[1:,1:3])"
      ],
      "metadata": {
        "colab": {
          "base_uri": "https://localhost:8080/"
        },
        "id": "L2zfN5fUnc3U",
        "outputId": "fec16c3a-c616-4f42-e35c-538c92a66cfb"
      },
      "execution_count": 4,
      "outputs": [
        {
          "output_type": "stream",
          "name": "stdout",
          "text": [
            "[[23 56]\n",
            " [45 34]]\n"
          ]
        }
      ]
    },
    {
      "cell_type": "code",
      "source": [
        "# Create a 4x4 matrix with random integers between 0 and 9\n",
        "matrix4x4 = np.random.randint(0, 10, size=(4, 4))\n",
        "print(matrix4x4)\n",
        "print(matrix4x4.shape)"
      ],
      "metadata": {
        "colab": {
          "base_uri": "https://localhost:8080/"
        },
        "id": "ukvPn5Y_noRi",
        "outputId": "21dcbf2c-e314-4e4f-df1f-b932cefdc116"
      },
      "execution_count": 6,
      "outputs": [
        {
          "output_type": "stream",
          "name": "stdout",
          "text": [
            "[[0 6 0 3]\n",
            " [0 6 9 1]\n",
            " [0 2 3 4]\n",
            " [4 9 2 8]]\n",
            "(4, 4)\n"
          ]
        }
      ]
    },
    {
      "cell_type": "code",
      "source": [
        "print(matrix4x4)"
      ],
      "metadata": {
        "colab": {
          "base_uri": "https://localhost:8080/"
        },
        "id": "XVMywBNGoGN6",
        "outputId": "66c84d4f-a5c0-4dfa-c212-6b148af31f64"
      },
      "execution_count": 7,
      "outputs": [
        {
          "output_type": "stream",
          "name": "stdout",
          "text": [
            "[[0 6 0 3]\n",
            " [0 6 9 1]\n",
            " [0 2 3 4]\n",
            " [4 9 2 8]]\n"
          ]
        }
      ]
    },
    {
      "cell_type": "code",
      "source": [
        "print(matrix4x4)\n",
        "col_indices=np.array([1,3])\n",
        "row_indices=np.array([0,2])\n",
        "for row,col in zip(row_indices,col_indices):\n",
        "    # print([row,\" \",col])\n",
        "    print(matrix4x4[row,col])\n"
      ],
      "metadata": {
        "colab": {
          "base_uri": "https://localhost:8080/"
        },
        "id": "H9mi7ssSoW74",
        "outputId": "9180dd6c-97b3-4bf9-a47a-598670d4308f"
      },
      "execution_count": 10,
      "outputs": [
        {
          "output_type": "stream",
          "name": "stdout",
          "text": [
            "[[0 6 0 3]\n",
            " [0 6 9 1]\n",
            " [0 2 3 4]\n",
            " [4 9 2 8]]\n",
            "6\n",
            "4\n"
          ]
        }
      ]
    },
    {
      "cell_type": "code",
      "source": [
        "may=matrix4x4>7\n",
        "print(may)"
      ],
      "metadata": {
        "colab": {
          "base_uri": "https://localhost:8080/"
        },
        "id": "F9DZveK0p7kC",
        "outputId": "56946f1d-db67-43fe-832f-5118911a7da4"
      },
      "execution_count": 11,
      "outputs": [
        {
          "output_type": "stream",
          "name": "stdout",
          "text": [
            "[[False False False False]\n",
            " [False False  True False]\n",
            " [False False False False]\n",
            " [False  True False  True]]\n"
          ]
        }
      ]
    },
    {
      "cell_type": "code",
      "source": [
        "print(matrix4x4[may])"
      ],
      "metadata": {
        "colab": {
          "base_uri": "https://localhost:8080/"
        },
        "id": "GKRv07fQqFQH",
        "outputId": "27a1839c-ff37-4f36-ff86-047657141544"
      },
      "execution_count": 12,
      "outputs": [
        {
          "output_type": "stream",
          "name": "stdout",
          "text": [
            "[9 9 8]\n"
          ]
        }
      ]
    },
    {
      "cell_type": "code",
      "source": [
        "matrix4x4[matrix4x4 % 2== 0]+=100\n",
        "print(matrix4x4)"
      ],
      "metadata": {
        "colab": {
          "base_uri": "https://localhost:8080/"
        },
        "id": "8Pq2lRXbqIiR",
        "outputId": "63124412-21b6-479e-872a-807594b3c713"
      },
      "execution_count": 14,
      "outputs": [
        {
          "output_type": "stream",
          "name": "stdout",
          "text": [
            "[[100 106 100   3]\n",
            " [100 106   9   1]\n",
            " [100 102   3 104]\n",
            " [104   9 102 108]]\n"
          ]
        }
      ]
    },
    {
      "cell_type": "code",
      "source": [
        "matrix4x4[(matrix4x4 >3) & (matrix4x4 < 9)]+=100\n",
        "print(matrix4x4)"
      ],
      "metadata": {
        "colab": {
          "base_uri": "https://localhost:8080/"
        },
        "id": "Z4OHvC_NrkW5",
        "outputId": "40044697-3b5e-496a-f66d-208df737cedd"
      },
      "execution_count": 15,
      "outputs": [
        {
          "output_type": "stream",
          "name": "stdout",
          "text": [
            "[[100 106 100   3]\n",
            " [100 106   9   1]\n",
            " [100 102   3 104]\n",
            " [104   9 102 108]]\n"
          ]
        }
      ]
    },
    {
      "cell_type": "code",
      "source": [
        "matrix4x4[matrix4x4 % 2== 0]+=100\n",
        "print(matrix4x4)"
      ],
      "metadata": {
        "colab": {
          "base_uri": "https://localhost:8080/"
        },
        "id": "FykuMqUSsLPa",
        "outputId": "153e818d-1dc0-40e2-c031-c6819ccb4b75"
      },
      "execution_count": 16,
      "outputs": [
        {
          "output_type": "stream",
          "name": "stdout",
          "text": [
            "[[200 206 200   3]\n",
            " [200 206   9   1]\n",
            " [200 202   3 204]\n",
            " [204   9 202 208]]\n"
          ]
        }
      ]
    },
    {
      "cell_type": "code",
      "source": [
        "matrix4x4[matrix4x4 % 2== 0]-=100\n",
        "print(matrix4x4)"
      ],
      "metadata": {
        "colab": {
          "base_uri": "https://localhost:8080/"
        },
        "id": "IBpwQTluskhM",
        "outputId": "207ede48-5ab8-4a9c-d1c0-0f01bcc63812"
      },
      "execution_count": 17,
      "outputs": [
        {
          "output_type": "stream",
          "name": "stdout",
          "text": [
            "[[100 106 100   3]\n",
            " [100 106   9   1]\n",
            " [100 102   3 104]\n",
            " [104   9 102 108]]\n"
          ]
        }
      ]
    },
    {
      "cell_type": "code",
      "source": [
        "matrix4x4[matrix4x4 % 2== 0]-=100\n",
        "print(matrix4x4)"
      ],
      "metadata": {
        "colab": {
          "base_uri": "https://localhost:8080/"
        },
        "id": "5S-1Tk3mso1q",
        "outputId": "d0f8bf9d-177e-4423-8694-10b6ae7fc967"
      },
      "execution_count": 18,
      "outputs": [
        {
          "output_type": "stream",
          "name": "stdout",
          "text": [
            "[[0 6 0 3]\n",
            " [0 6 9 1]\n",
            " [0 2 3 4]\n",
            " [4 9 2 8]]\n"
          ]
        }
      ]
    },
    {
      "cell_type": "code",
      "source": [
        "matrixf=matrix4x4.flatten()\n",
        "print(matrixf)"
      ],
      "metadata": {
        "colab": {
          "base_uri": "https://localhost:8080/"
        },
        "id": "lWtdldSSstJN",
        "outputId": "222b33f2-5bdd-412e-f687-8e1fa64935f0"
      },
      "execution_count": 19,
      "outputs": [
        {
          "output_type": "stream",
          "name": "stdout",
          "text": [
            "[0 6 0 3 0 6 9 1 0 2 3 4 4 9 2 8]\n"
          ]
        }
      ]
    },
    {
      "cell_type": "code",
      "source": [
        "matrixf=matrix4x4.ravel()\n",
        "print(matrixf)"
      ],
      "metadata": {
        "colab": {
          "base_uri": "https://localhost:8080/"
        },
        "id": "qIYBzqgRtMBz",
        "outputId": "fd237a0c-73fb-49ca-ba4c-3a3783543dab"
      },
      "execution_count": 20,
      "outputs": [
        {
          "output_type": "stream",
          "name": "stdout",
          "text": [
            "[0 6 0 3 0 6 9 1 0 2 3 4 4 9 2 8]\n"
          ]
        }
      ]
    },
    {
      "cell_type": "code",
      "source": [
        "matrixI1=np.random.randint(0,10,size=(3,3))\n",
        "matrixI2=np.random.randint(0,10,size=(3,3))\n",
        "print(\"Matrix1\")\n",
        "print(matrixI1)\n",
        "print(\"Matrix2\")\n",
        "print(matrixI2)"
      ],
      "metadata": {
        "colab": {
          "base_uri": "https://localhost:8080/"
        },
        "id": "i0WC2PKltEO5",
        "outputId": "ec25096b-78d2-47ab-aa50-3ce8ab545960"
      },
      "execution_count": 22,
      "outputs": [
        {
          "output_type": "stream",
          "name": "stdout",
          "text": [
            "Matrix1\n",
            "[[7 4 0]\n",
            " [4 2 5]\n",
            " [7 8 9]]\n",
            "Matrix2\n",
            "[[7 9 9]\n",
            " [0 8 2]\n",
            " [5 5 9]]\n"
          ]
        }
      ]
    },
    {
      "cell_type": "code",
      "source": [
        "print(matrixI1+matrixI2)\n",
        "print(matrixI1-matrixI2)\n",
        "print(matrixI1*matrixI2)\n",
        "print(matrixI1/matrixI2)"
      ],
      "metadata": {
        "colab": {
          "base_uri": "https://localhost:8080/"
        },
        "id": "Xt--L9htvX_i",
        "outputId": "ef9e36a7-7a6f-4e87-db10-0134d55a731f"
      },
      "execution_count": 23,
      "outputs": [
        {
          "output_type": "stream",
          "name": "stdout",
          "text": [
            "[[14 13  9]\n",
            " [ 4 10  7]\n",
            " [12 13 18]]\n",
            "[[ 0 -5 -9]\n",
            " [ 4 -6  3]\n",
            " [ 2  3  0]]\n",
            "[[49 36  0]\n",
            " [ 0 16 10]\n",
            " [35 40 81]]\n",
            "[[1.         0.44444444 0.        ]\n",
            " [       inf 0.25       2.5       ]\n",
            " [1.4        1.6        1.        ]]\n"
          ]
        },
        {
          "output_type": "stream",
          "name": "stderr",
          "text": [
            "<ipython-input-23-88e697e2451e>:4: RuntimeWarning: divide by zero encountered in divide\n",
            "  print(matrixI1/matrixI2)\n"
          ]
        }
      ]
    },
    {
      "cell_type": "code",
      "source": [
        "print(np.add(matrixI1,matrixI2))\n",
        "print(np.subtract(matrixI1,matrixI2))\n",
        "print(np.multiply(matrixI1,matrixI2))\n",
        "print(np.divide(matrixI1,matrixI2))"
      ],
      "metadata": {
        "colab": {
          "base_uri": "https://localhost:8080/"
        },
        "id": "03Txlo_vviih",
        "outputId": "1e6f94c9-bd87-462c-8a65-9991b7de9f83"
      },
      "execution_count": 24,
      "outputs": [
        {
          "output_type": "stream",
          "name": "stdout",
          "text": [
            "[[14 13  9]\n",
            " [ 4 10  7]\n",
            " [12 13 18]]\n",
            "[[ 0 -5 -9]\n",
            " [ 4 -6  3]\n",
            " [ 2  3  0]]\n",
            "[[49 36  0]\n",
            " [ 0 16 10]\n",
            " [35 40 81]]\n",
            "[[1.         0.44444444 0.        ]\n",
            " [       inf 0.25       2.5       ]\n",
            " [1.4        1.6        1.        ]]\n"
          ]
        },
        {
          "output_type": "stream",
          "name": "stderr",
          "text": [
            "<ipython-input-24-87a84fcfac42>:4: RuntimeWarning: divide by zero encountered in divide\n",
            "  print(np.divide(matrixI1,matrixI2))\n"
          ]
        }
      ]
    },
    {
      "cell_type": "code",
      "source": [
        "print(np.sqrt(matrixI1))"
      ],
      "metadata": {
        "colab": {
          "base_uri": "https://localhost:8080/"
        },
        "id": "wn1zpl1fvo31",
        "outputId": "eec11ee6-6626-4c0e-db14-8f6e60866152"
      },
      "execution_count": 25,
      "outputs": [
        {
          "output_type": "stream",
          "name": "stdout",
          "text": [
            "[[2.64575131 2.         0.        ]\n",
            " [2.         1.41421356 2.23606798]\n",
            " [2.64575131 2.82842712 3.        ]]\n"
          ]
        }
      ]
    },
    {
      "cell_type": "code",
      "source": [
        "matrixI1=np.random.randint(0,10,size=(5,5))\n",
        "print(matrixI1)"
      ],
      "metadata": {
        "colab": {
          "base_uri": "https://localhost:8080/"
        },
        "id": "ONBIDY7Mv3Am",
        "outputId": "a60d8420-8630-4317-a12b-8ba04e964320"
      },
      "execution_count": 26,
      "outputs": [
        {
          "output_type": "stream",
          "name": "stdout",
          "text": [
            "[[4 0 6 7 1]\n",
            " [0 5 1 0 8]\n",
            " [2 5 0 2 8]\n",
            " [3 2 2 2 3]\n",
            " [7 2 7 5 3]]\n"
          ]
        }
      ]
    },
    {
      "cell_type": "code",
      "source": [
        "print(np.mean(matrixI1))\n",
        "print(np.std(matrixI1))\n",
        "print(np.var(matrixI1))"
      ],
      "metadata": {
        "colab": {
          "base_uri": "https://localhost:8080/"
        },
        "id": "aO-4TMQpwGbc",
        "outputId": "c93a805a-586e-4d08-fb38-6f826e579cbd"
      },
      "execution_count": 27,
      "outputs": [
        {
          "output_type": "stream",
          "name": "stdout",
          "text": [
            "3.4\n",
            "2.576819745345025\n",
            "6.639999999999999\n"
          ]
        }
      ]
    },
    {
      "cell_type": "code",
      "source": [
        "print(matrixI1.mean(axis=0))\n",
        "print(matrixI1.mean(axis=1))"
      ],
      "metadata": {
        "colab": {
          "base_uri": "https://localhost:8080/"
        },
        "id": "zr4Zy_u8wLrE",
        "outputId": "00c07902-666d-4f37-e5ac-4bafbd33a88e"
      },
      "execution_count": 28,
      "outputs": [
        {
          "output_type": "stream",
          "name": "stdout",
          "text": [
            "[3.2 2.8 3.2 3.2 4.6]\n",
            "[3.6 2.8 3.4 2.4 4.8]\n"
          ]
        }
      ]
    },
    {
      "cell_type": "code",
      "source": [
        "print(np.std(matrixI1,axis=0))\n",
        "print(np.std(matrixI1,axis=1))"
      ],
      "metadata": {
        "colab": {
          "base_uri": "https://localhost:8080/"
        },
        "id": "OzQ_Fx6-we0H",
        "outputId": "9624ada0-5dda-4e64-b21c-f6906245c05c"
      },
      "execution_count": 29,
      "outputs": [
        {
          "output_type": "stream",
          "name": "stdout",
          "text": [
            "[2.31516738 1.93907194 2.78567766 2.48193473 2.87054002]\n",
            "[2.72763634 3.18747549 2.8        0.48989795 2.03960781]\n"
          ]
        }
      ]
    },
    {
      "cell_type": "code",
      "source": [
        "print(matrixI1.max(axis=0))\n",
        "print(matrixI1.max(axis=1))"
      ],
      "metadata": {
        "colab": {
          "base_uri": "https://localhost:8080/"
        },
        "id": "kqozQYz_w2Np",
        "outputId": "11342adc-fbfa-4a0c-cf6c-82deff343f31"
      },
      "execution_count": 30,
      "outputs": [
        {
          "output_type": "stream",
          "name": "stdout",
          "text": [
            "[7 5 7 7 8]\n",
            "[7 8 8 3 7]\n"
          ]
        }
      ]
    },
    {
      "cell_type": "code",
      "source": [
        "print(matrixI1.min(axis=0))\n",
        "print(matrixI1.min(axis=1))"
      ],
      "metadata": {
        "colab": {
          "base_uri": "https://localhost:8080/"
        },
        "id": "4fdwHCB1xMS9",
        "outputId": "eefbdb7b-c979-4f5b-cd36-53ac913e4177"
      },
      "execution_count": 31,
      "outputs": [
        {
          "output_type": "stream",
          "name": "stdout",
          "text": [
            "[0 0 0 0 1]\n",
            "[0 0 0 2 2]\n"
          ]
        }
      ]
    },
    {
      "cell_type": "code",
      "source": [
        "start=np.zeros((4,3))\n",
        "print(start)"
      ],
      "metadata": {
        "colab": {
          "base_uri": "https://localhost:8080/"
        },
        "id": "jKgafQqtxR3p",
        "outputId": "e67ae580-2ff1-413b-fb36-52e5e65d0fdf"
      },
      "execution_count": 32,
      "outputs": [
        {
          "output_type": "stream",
          "name": "stdout",
          "text": [
            "[[0. 0. 0.]\n",
            " [0. 0. 0.]\n",
            " [0. 0. 0.]\n",
            " [0. 0. 0.]]\n"
          ]
        }
      ]
    },
    {
      "cell_type": "code",
      "source": [
        "add_rows=np.array([1,5,7])\n",
        "print(add_rows)"
      ],
      "metadata": {
        "colab": {
          "base_uri": "https://localhost:8080/"
        },
        "id": "pgiIruuJyG-r",
        "outputId": "5326a57e-7f1b-42c7-82c3-b806290578b9"
      },
      "execution_count": 33,
      "outputs": [
        {
          "output_type": "stream",
          "name": "stdout",
          "text": [
            "[1 5 7]\n"
          ]
        }
      ]
    },
    {
      "cell_type": "code",
      "source": [
        "add_rows=np.array([1,5,7])\n",
        "print(add_rows.shape)"
      ],
      "metadata": {
        "colab": {
          "base_uri": "https://localhost:8080/"
        },
        "id": "CQo2TO6uyV_w",
        "outputId": "2e775754-7ee9-45d7-95b5-0669712029aa"
      },
      "execution_count": 34,
      "outputs": [
        {
          "output_type": "stream",
          "name": "stdout",
          "text": [
            "(3,)\n"
          ]
        }
      ]
    },
    {
      "cell_type": "code",
      "source": [
        "y=start+add_rows\n",
        "print(y)"
      ],
      "metadata": {
        "colab": {
          "base_uri": "https://localhost:8080/"
        },
        "id": "rmUUVydpybdV",
        "outputId": "78e489fb-b3f8-41aa-8530-c3d1046ee182"
      },
      "execution_count": 35,
      "outputs": [
        {
          "output_type": "stream",
          "name": "stdout",
          "text": [
            "[[1. 5. 7.]\n",
            " [1. 5. 7.]\n",
            " [1. 5. 7.]\n",
            " [1. 5. 7.]]\n"
          ]
        }
      ]
    },
    {
      "cell_type": "code",
      "source": [
        "print(start)"
      ],
      "metadata": {
        "colab": {
          "base_uri": "https://localhost:8080/"
        },
        "id": "hq11JIHUyfHu",
        "outputId": "9964c53d-3f49-45b9-b3fa-8188fb786973"
      },
      "execution_count": 36,
      "outputs": [
        {
          "output_type": "stream",
          "name": "stdout",
          "text": [
            "[[0. 0. 0.]\n",
            " [0. 0. 0.]\n",
            " [0. 0. 0.]\n",
            " [0. 0. 0.]]\n"
          ]
        }
      ]
    },
    {
      "cell_type": "code",
      "source": [
        "col_rows=np.array([1,5,7,6])\n",
        "print(col_rows)"
      ],
      "metadata": {
        "colab": {
          "base_uri": "https://localhost:8080/"
        },
        "id": "FEvrOGHKynGJ",
        "outputId": "dfb31c9a-dfe6-4e3a-e660-c6d332c51e64"
      },
      "execution_count": 38,
      "outputs": [
        {
          "output_type": "stream",
          "name": "stdout",
          "text": [
            "[1 5 7 6]\n"
          ]
        }
      ]
    },
    {
      "cell_type": "code",
      "source": [
        "print(col_rows.T)"
      ],
      "metadata": {
        "colab": {
          "base_uri": "https://localhost:8080/"
        },
        "id": "qaH_vbuvy1kt",
        "outputId": "5250823b-0d6c-45bf-c580-195c69bd6cca"
      },
      "execution_count": 39,
      "outputs": [
        {
          "output_type": "stream",
          "name": "stdout",
          "text": [
            "[1 5 7 6]\n"
          ]
        }
      ]
    },
    {
      "cell_type": "code",
      "source": [
        "print(add_rows.T)"
      ],
      "metadata": {
        "colab": {
          "base_uri": "https://localhost:8080/"
        },
        "id": "d5CsWizQzwcw",
        "outputId": "caea079a-8e9f-47d4-a1fe-ab3bc3d6162d"
      },
      "execution_count": 40,
      "outputs": [
        {
          "output_type": "stream",
          "name": "stdout",
          "text": [
            "[1 5 7]\n"
          ]
        }
      ]
    },
    {
      "cell_type": "code",
      "source": [
        "matrixT=start.T\n",
        "print(matrixT)"
      ],
      "metadata": {
        "colab": {
          "base_uri": "https://localhost:8080/"
        },
        "id": "Z1JGOMe3z-vE",
        "outputId": "31f8692b-fe54-45a9-9f86-0e43202f8b85"
      },
      "execution_count": 41,
      "outputs": [
        {
          "output_type": "stream",
          "name": "stdout",
          "text": [
            "[[0. 0. 0. 0.]\n",
            " [0. 0. 0. 0.]\n",
            " [0. 0. 0. 0.]]\n"
          ]
        }
      ]
    },
    {
      "cell_type": "code",
      "source": [
        "matrixT=start.T\n",
        "print(matrixT)\n",
        "print(start)"
      ],
      "metadata": {
        "colab": {
          "base_uri": "https://localhost:8080/"
        },
        "id": "sEBC9PRN0FtX",
        "outputId": "f4f8e7eb-2b9c-4e3a-d33a-08fe0c026cca"
      },
      "execution_count": 42,
      "outputs": [
        {
          "output_type": "stream",
          "name": "stdout",
          "text": [
            "[[0. 0. 0. 0.]\n",
            " [0. 0. 0. 0.]\n",
            " [0. 0. 0. 0.]]\n",
            "[[0. 0. 0.]\n",
            " [0. 0. 0.]\n",
            " [0. 0. 0.]\n",
            " [0. 0. 0.]]\n"
          ]
        }
      ]
    },
    {
      "cell_type": "code",
      "source": [
        "matrixT=start+add_rows\n",
        "print(matrixT)\n",
        "print(start)"
      ],
      "metadata": {
        "colab": {
          "base_uri": "https://localhost:8080/"
        },
        "id": "p8iJgQL90sFw",
        "outputId": "8eb724a9-d0a4-42ac-9ca2-9d5dfb9e4f16"
      },
      "execution_count": 43,
      "outputs": [
        {
          "output_type": "stream",
          "name": "stdout",
          "text": [
            "[[1. 5. 7.]\n",
            " [1. 5. 7.]\n",
            " [1. 5. 7.]\n",
            " [1. 5. 7.]]\n",
            "[[0. 0. 0.]\n",
            " [0. 0. 0.]\n",
            " [0. 0. 0.]\n",
            " [0. 0. 0.]]\n"
          ]
        }
      ]
    },
    {
      "cell_type": "code",
      "source": [
        "print(start)\n",
        "top=col_rows.T\n",
        "ed=start+top\n",
        "print(ed)"
      ],
      "metadata": {
        "colab": {
          "base_uri": "https://localhost:8080/",
          "height": 263
        },
        "id": "A5LWh-MY1L2q",
        "outputId": "7ae15e4e-e1f6-488b-ecab-82177f8c9cf9"
      },
      "execution_count": 47,
      "outputs": [
        {
          "output_type": "stream",
          "name": "stdout",
          "text": [
            "[[0. 0. 0.]\n",
            " [0. 0. 0.]\n",
            " [0. 0. 0.]\n",
            " [0. 0. 0.]]\n"
          ]
        },
        {
          "output_type": "error",
          "ename": "ValueError",
          "evalue": "operands could not be broadcast together with shapes (4,3) (4,) ",
          "traceback": [
            "\u001b[0;31m---------------------------------------------------------------------------\u001b[0m",
            "\u001b[0;31mValueError\u001b[0m                                Traceback (most recent call last)",
            "\u001b[0;32m<ipython-input-47-ceb725ed40ce>\u001b[0m in \u001b[0;36m<cell line: 3>\u001b[0;34m()\u001b[0m\n\u001b[1;32m      1\u001b[0m \u001b[0mprint\u001b[0m\u001b[0;34m(\u001b[0m\u001b[0mstart\u001b[0m\u001b[0;34m)\u001b[0m\u001b[0;34m\u001b[0m\u001b[0;34m\u001b[0m\u001b[0m\n\u001b[1;32m      2\u001b[0m \u001b[0mtop\u001b[0m\u001b[0;34m=\u001b[0m\u001b[0mcol_rows\u001b[0m\u001b[0;34m.\u001b[0m\u001b[0mT\u001b[0m\u001b[0;34m\u001b[0m\u001b[0;34m\u001b[0m\u001b[0m\n\u001b[0;32m----> 3\u001b[0;31m \u001b[0med\u001b[0m\u001b[0;34m=\u001b[0m\u001b[0mstart\u001b[0m\u001b[0;34m+\u001b[0m\u001b[0mtop\u001b[0m\u001b[0;34m\u001b[0m\u001b[0;34m\u001b[0m\u001b[0m\n\u001b[0m\u001b[1;32m      4\u001b[0m \u001b[0mprint\u001b[0m\u001b[0;34m(\u001b[0m\u001b[0med\u001b[0m\u001b[0;34m)\u001b[0m\u001b[0;34m\u001b[0m\u001b[0;34m\u001b[0m\u001b[0m\n",
            "\u001b[0;31mValueError\u001b[0m: operands could not be broadcast together with shapes (4,3) (4,) "
          ]
        }
      ]
    },
    {
      "cell_type": "code",
      "source": [
        "var1=array([[3,3],[5,5]])\n",
        "var2=array([[4,3],[6,5]])\n",
        "print(var1)\n",
        "print(var2)"
      ],
      "metadata": {
        "colab": {
          "base_uri": "https://localhost:8080/",
          "height": 193
        },
        "id": "iGAPBIpe1bkk",
        "outputId": "4f43d8fd-6c1a-4bae-fe16-1e6f5ab99bfd"
      },
      "execution_count": 48,
      "outputs": [
        {
          "output_type": "error",
          "ename": "NameError",
          "evalue": "name 'array' is not defined",
          "traceback": [
            "\u001b[0;31m---------------------------------------------------------------------------\u001b[0m",
            "\u001b[0;31mNameError\u001b[0m                                 Traceback (most recent call last)",
            "\u001b[0;32m<ipython-input-48-cb63be3eeedb>\u001b[0m in \u001b[0;36m<cell line: 1>\u001b[0;34m()\u001b[0m\n\u001b[0;32m----> 1\u001b[0;31m \u001b[0mvar1\u001b[0m\u001b[0;34m=\u001b[0m\u001b[0marray\u001b[0m\u001b[0;34m(\u001b[0m\u001b[0;34m[\u001b[0m\u001b[0;34m[\u001b[0m\u001b[0;36m3\u001b[0m\u001b[0;34m,\u001b[0m\u001b[0;36m3\u001b[0m\u001b[0;34m]\u001b[0m\u001b[0;34m,\u001b[0m\u001b[0;34m[\u001b[0m\u001b[0;36m5\u001b[0m\u001b[0;34m,\u001b[0m\u001b[0;36m5\u001b[0m\u001b[0;34m]\u001b[0m\u001b[0;34m]\u001b[0m\u001b[0;34m)\u001b[0m\u001b[0;34m\u001b[0m\u001b[0;34m\u001b[0m\u001b[0m\n\u001b[0m\u001b[1;32m      2\u001b[0m \u001b[0mvar2\u001b[0m\u001b[0;34m=\u001b[0m\u001b[0marray\u001b[0m\u001b[0;34m(\u001b[0m\u001b[0;34m[\u001b[0m\u001b[0;34m[\u001b[0m\u001b[0;36m4\u001b[0m\u001b[0;34m,\u001b[0m\u001b[0;36m3\u001b[0m\u001b[0;34m]\u001b[0m\u001b[0;34m,\u001b[0m\u001b[0;34m[\u001b[0m\u001b[0;36m6\u001b[0m\u001b[0;34m,\u001b[0m\u001b[0;36m5\u001b[0m\u001b[0;34m]\u001b[0m\u001b[0;34m]\u001b[0m\u001b[0;34m)\u001b[0m\u001b[0;34m\u001b[0m\u001b[0;34m\u001b[0m\u001b[0m\n\u001b[1;32m      3\u001b[0m \u001b[0mprint\u001b[0m\u001b[0;34m(\u001b[0m\u001b[0mvar1\u001b[0m\u001b[0;34m)\u001b[0m\u001b[0;34m\u001b[0m\u001b[0;34m\u001b[0m\u001b[0m\n\u001b[1;32m      4\u001b[0m \u001b[0mprint\u001b[0m\u001b[0;34m(\u001b[0m\u001b[0mvar2\u001b[0m\u001b[0;34m)\u001b[0m\u001b[0;34m\u001b[0m\u001b[0;34m\u001b[0m\u001b[0m\n",
            "\u001b[0;31mNameError\u001b[0m: name 'array' is not defined"
          ]
        }
      ]
    },
    {
      "cell_type": "code",
      "source": [
        "print(var1.dot(var2))"
      ],
      "metadata": {
        "colab": {
          "base_uri": "https://localhost:8080/",
          "height": 141
        },
        "id": "u07wW2tx12FK",
        "outputId": "13500b00-b647-45ba-96fe-b3d633885307"
      },
      "execution_count": 49,
      "outputs": [
        {
          "output_type": "error",
          "ename": "NameError",
          "evalue": "name 'var1' is not defined",
          "traceback": [
            "\u001b[0;31m---------------------------------------------------------------------------\u001b[0m",
            "\u001b[0;31mNameError\u001b[0m                                 Traceback (most recent call last)",
            "\u001b[0;32m<ipython-input-49-c83f0eb67af0>\u001b[0m in \u001b[0;36m<cell line: 1>\u001b[0;34m()\u001b[0m\n\u001b[0;32m----> 1\u001b[0;31m \u001b[0mprint\u001b[0m\u001b[0;34m(\u001b[0m\u001b[0mvar1\u001b[0m\u001b[0;34m.\u001b[0m\u001b[0mdot\u001b[0m\u001b[0;34m(\u001b[0m\u001b[0mvar2\u001b[0m\u001b[0;34m)\u001b[0m\u001b[0;34m)\u001b[0m\u001b[0;34m\u001b[0m\u001b[0;34m\u001b[0m\u001b[0m\n\u001b[0m",
            "\u001b[0;31mNameError\u001b[0m: name 'var1' is not defined"
          ]
        }
      ]
    },
    {
      "cell_type": "code",
      "source": [
        "var1=np.random.randint(low=2,high=50,size=(2,2))\n",
        "var2=np.random.randint(low=2,high=50,size=(2,2))\n",
        "print(var1)\n",
        "print(var2)"
      ],
      "metadata": {
        "colab": {
          "base_uri": "https://localhost:8080/"
        },
        "id": "1nyIERJQ2JSD",
        "outputId": "a6bce93e-a3d3-4d05-8ccd-49429e386962"
      },
      "execution_count": 50,
      "outputs": [
        {
          "output_type": "stream",
          "name": "stdout",
          "text": [
            "[[44  4]\n",
            " [ 5 37]]\n",
            "[[47 26]\n",
            " [28 33]]\n"
          ]
        }
      ]
    },
    {
      "cell_type": "code",
      "source": [
        "np.vstack((var1,var2))"
      ],
      "metadata": {
        "colab": {
          "base_uri": "https://localhost:8080/"
        },
        "id": "nyMzrgGY2XdL",
        "outputId": "ef6001d4-09fe-414a-dfab-fc9bd63a319a"
      },
      "execution_count": 51,
      "outputs": [
        {
          "output_type": "execute_result",
          "data": {
            "text/plain": [
              "array([[44,  4],\n",
              "       [ 5, 37],\n",
              "       [47, 26],\n",
              "       [28, 33]])"
            ]
          },
          "metadata": {},
          "execution_count": 51
        }
      ]
    },
    {
      "cell_type": "code",
      "source": [
        "np.hstack((var1,var2))"
      ],
      "metadata": {
        "colab": {
          "base_uri": "https://localhost:8080/"
        },
        "id": "XU9H9Rv62ifZ",
        "outputId": "8f8eb8a8-af86-4488-e31d-1ee31a597f28"
      },
      "execution_count": 52,
      "outputs": [
        {
          "output_type": "execute_result",
          "data": {
            "text/plain": [
              "array([[44,  4, 47, 26],\n",
              "       [ 5, 37, 28, 33]])"
            ]
          },
          "metadata": {},
          "execution_count": 52
        }
      ]
    },
    {
      "cell_type": "code",
      "source": [],
      "metadata": {
        "id": "DlY-feWk2tzV"
      },
      "execution_count": null,
      "outputs": []
    }
  ]
}