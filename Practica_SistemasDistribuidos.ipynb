{
  "nbformat": 4,
  "nbformat_minor": 0,
  "metadata": {
    "colab": {
      "provenance": [],
      "authorship_tag": "ABX9TyNbl56O2EZEMRnXr2Ujis5S",
      "include_colab_link": true
    },
    "kernelspec": {
      "name": "python3",
      "display_name": "Python 3"
    },
    "language_info": {
      "name": "python"
    }
  },
  "cells": [
    {
      "cell_type": "markdown",
      "metadata": {
        "id": "view-in-github",
        "colab_type": "text"
      },
      "source": [
        "<a href=\"https://colab.research.google.com/github/Cllasd44/Inteligencia-Artificiial/blob/main/Practica_SistemasDistribuidos.ipynb\" target=\"_parent\"><img src=\"https://colab.research.google.com/assets/colab-badge.svg\" alt=\"Open In Colab\"/></a>"
      ]
    },
    {
      "cell_type": "code",
      "execution_count": 1,
      "metadata": {
        "colab": {
          "base_uri": "https://localhost:8080/",
          "height": 141
        },
        "id": "7yvqmynJqZ59",
        "outputId": "7ecb13f7-fb89-412f-b71a-fa51a76769b1"
      },
      "outputs": [
        {
          "output_type": "error",
          "ename": "NameError",
          "evalue": "name 'python' is not defined",
          "traceback": [
            "\u001b[0;31m---------------------------------------------------------------------------\u001b[0m",
            "\u001b[0;31mNameError\u001b[0m                                 Traceback (most recent call last)",
            "\u001b[0;32m<ipython-input-1-30cc857fd256>\u001b[0m in \u001b[0;36m<cell line: 1>\u001b[0;34m()\u001b[0m\n\u001b[0;32m----> 1\u001b[0;31m \u001b[0mpython\u001b[0m  \u001b[0;34m-\u001b[0m\u001b[0;34m-\u001b[0m\u001b[0mversion\u001b[0m\u001b[0;34m\u001b[0m\u001b[0;34m\u001b[0m\u001b[0m\n\u001b[0m",
            "\u001b[0;31mNameError\u001b[0m: name 'python' is not defined"
          ]
        }
      ],
      "source": [
        "python  --version"
      ]
    },
    {
      "cell_type": "code",
      "source": [],
      "metadata": {
        "id": "TYl4rHKysl2d"
      },
      "execution_count": null,
      "outputs": []
    },
    {
      "cell_type": "code",
      "source": [
        "import sys\n",
        "print(sys.version)"
      ],
      "metadata": {
        "colab": {
          "base_uri": "https://localhost:8080/"
        },
        "id": "QBcLmIgFr1NE",
        "outputId": "29714432-bfca-4d27-a99f-db894bc87d28"
      },
      "execution_count": 2,
      "outputs": [
        {
          "output_type": "stream",
          "name": "stdout",
          "text": [
            "3.10.12 (main, Sep 11 2024, 15:47:36) [GCC 11.4.0]\n"
          ]
        }
      ]
    },
    {
      "cell_type": "code",
      "source": [
        "numero=5\n",
        "tmp1=\"Roshell\"\n",
        "print(numero)\n",
        "print(f\"Mi nombre es {tmp1}\")\n",
        "print(numero-3)\n",
        "print(numero+3)\n",
        "print(numero*3)\n",
        "print(numero/3)\n",
        "print(numero**3)"
      ],
      "metadata": {
        "colab": {
          "base_uri": "https://localhost:8080/"
        },
        "id": "LLZ75WPespnA",
        "outputId": "0498c86c-51e6-44fc-a442-34205069914b"
      },
      "execution_count": 15,
      "outputs": [
        {
          "output_type": "stream",
          "name": "stdout",
          "text": [
            "5\n",
            "Mi nombre es Roshell\n",
            "2\n",
            "8\n",
            "15\n",
            "1.6666666666666667\n",
            "125\n"
          ]
        }
      ]
    },
    {
      "cell_type": "code",
      "source": [
        "print(numero**3)\n",
        "numero*3"
      ],
      "metadata": {
        "colab": {
          "base_uri": "https://localhost:8080/"
        },
        "id": "N8o6w6s-uL1j",
        "outputId": "6f51eac8-7ba6-4cc0-94fa-388d3d3fef04"
      },
      "execution_count": 17,
      "outputs": [
        {
          "output_type": "stream",
          "name": "stdout",
          "text": [
            "125\n"
          ]
        },
        {
          "output_type": "execute_result",
          "data": {
            "text/plain": [
              "15"
            ]
          },
          "metadata": {},
          "execution_count": 17
        }
      ]
    },
    {
      "cell_type": "code",
      "source": [
        "print(type)"
      ],
      "metadata": {
        "colab": {
          "base_uri": "https://localhost:8080/"
        },
        "id": "9jb5EEQKuono",
        "outputId": "67a1f9af-569e-439c-e740-eacc0ad0dc22"
      },
      "execution_count": 18,
      "outputs": [
        {
          "output_type": "stream",
          "name": "stdout",
          "text": [
            "<class 'type'>\n"
          ]
        }
      ]
    },
    {
      "cell_type": "code",
      "source": [
        "t=True\n",
        "f=False\n",
        "print(type(t))\n",
        "print(t and f)\n",
        "print(t or f)\n",
        "print(not t)\n",
        "print(t!=f)"
      ],
      "metadata": {
        "colab": {
          "base_uri": "https://localhost:8080/"
        },
        "id": "fryLUjXFvaD7",
        "outputId": "8b246c42-7b2c-4ce8-f4b6-c80fe1c84c19"
      },
      "execution_count": 19,
      "outputs": [
        {
          "output_type": "stream",
          "name": "stdout",
          "text": [
            "<class 'bool'>\n",
            "False\n",
            "True\n",
            "False\n",
            "True\n"
          ]
        }
      ]
    },
    {
      "cell_type": "code",
      "source": [],
      "metadata": {
        "id": "MEpV0wmXwJlz"
      },
      "execution_count": null,
      "outputs": []
    },
    {
      "cell_type": "code",
      "source": [
        "aux1=\"hello\"\n",
        "aux2=\"world\"\n",
        "print(aux1+aux2)\n",
        "print(aux1*2)"
      ],
      "metadata": {
        "colab": {
          "base_uri": "https://localhost:8080/"
        },
        "id": "IO-KrWASuSiQ",
        "outputId": "54d5c11f-9b1f-4633-8542-79f4cf012401"
      },
      "execution_count": 20,
      "outputs": [
        {
          "output_type": "stream",
          "name": "stdout",
          "text": [
            "helloworld\n",
            "hellohello\n"
          ]
        }
      ]
    },
    {
      "cell_type": "code",
      "source": [
        "print(aux1.capitalize())\n",
        "print(aux1.upper())\n",
        "print(aux1.rjust(7))\n",
        "print(aux1.center(7))"
      ],
      "metadata": {
        "colab": {
          "base_uri": "https://localhost:8080/"
        },
        "id": "POOzRB5Jw4tp",
        "outputId": "3154d25b-391d-4682-f317-d8257c52ae01"
      },
      "execution_count": 21,
      "outputs": [
        {
          "output_type": "stream",
          "name": "stdout",
          "text": [
            "Hello\n",
            "HELLO\n",
            "  hello\n",
            " hello \n"
          ]
        }
      ]
    },
    {
      "cell_type": "code",
      "source": [
        "aux3=\"  LANBOD \"\n",
        "print(aux3.strip())"
      ],
      "metadata": {
        "colab": {
          "base_uri": "https://localhost:8080/"
        },
        "id": "UxExkLgQxP58",
        "outputId": "0a6e4169-8fbc-4abf-b53b-525e1860d3db"
      },
      "execution_count": 22,
      "outputs": [
        {
          "output_type": "stream",
          "name": "stdout",
          "text": [
            "LANBOD\n"
          ]
        }
      ]
    },
    {
      "cell_type": "code",
      "source": [
        "print(aux3.lower())"
      ],
      "metadata": {
        "colab": {
          "base_uri": "https://localhost:8080/"
        },
        "id": "_1h7prahxhmi",
        "outputId": "33b013bf-4c73-4644-e0ac-bad25d5ed4fb"
      },
      "execution_count": 23,
      "outputs": [
        {
          "output_type": "stream",
          "name": "stdout",
          "text": [
            "  lanbod \n"
          ]
        }
      ]
    },
    {
      "cell_type": "code",
      "source": [
        "aux2=list"
      ],
      "metadata": {
        "id": "ssWQFZ1_xoFt"
      },
      "execution_count": 24,
      "outputs": []
    },
    {
      "cell_type": "code",
      "source": [],
      "metadata": {
        "id": "QuIwDakhyzWF"
      },
      "execution_count": 28,
      "outputs": []
    },
    {
      "cell_type": "code",
      "source": [],
      "metadata": {
        "id": "gpuXEAYszXfu"
      },
      "execution_count": null,
      "outputs": []
    },
    {
      "cell_type": "code",
      "source": [],
      "metadata": {
        "id": "dBIqLcZDzVyA"
      },
      "execution_count": null,
      "outputs": []
    },
    {
      "cell_type": "code",
      "source": [],
      "metadata": {
        "id": "L9LzBlbszM0j"
      },
      "execution_count": null,
      "outputs": []
    },
    {
      "cell_type": "code",
      "source": [],
      "metadata": {
        "colab": {
          "base_uri": "https://localhost:8080/",
          "height": 159
        },
        "id": "5Q37GXcXzJc3",
        "outputId": "d6d874a6-29bd-4c97-cb96-98a7021e0c9a"
      },
      "execution_count": 29,
      "outputs": [
        {
          "output_type": "error",
          "ename": "TypeError",
          "evalue": "'type' object does not support item assignment",
          "traceback": [
            "\u001b[0;31m---------------------------------------------------------------------------\u001b[0m",
            "\u001b[0;31mTypeError\u001b[0m                                 Traceback (most recent call last)",
            "\u001b[0;32m<ipython-input-29-17dcd2866937>\u001b[0m in \u001b[0;36m<cell line: 1>\u001b[0;34m()\u001b[0m\n\u001b[0;32m----> 1\u001b[0;31m \u001b[0maux2\u001b[0m\u001b[0;34m[\u001b[0m\u001b[0;36m1\u001b[0m\u001b[0;34m]\u001b[0m\u001b[0;34m=\u001b[0m\u001b[0;34m'Juan'\u001b[0m\u001b[0;34m\u001b[0m\u001b[0;34m\u001b[0m\u001b[0m\n\u001b[0m\u001b[1;32m      2\u001b[0m \u001b[0mprint\u001b[0m\u001b[0;34m(\u001b[0m\u001b[0maux2\u001b[0m\u001b[0;34m)\u001b[0m\u001b[0;34m\u001b[0m\u001b[0;34m\u001b[0m\u001b[0m\n",
            "\u001b[0;31mTypeError\u001b[0m: 'type' object does not support item assignment"
          ]
        }
      ]
    },
    {
      "cell_type": "code",
      "source": [],
      "metadata": {
        "id": "jnleLft8zm6k"
      },
      "execution_count": null,
      "outputs": []
    },
    {
      "cell_type": "code",
      "source": [
        "temp1=list(range(100))"
      ],
      "metadata": {
        "id": "SnV_PX4ZzEEG"
      },
      "execution_count": 30,
      "outputs": []
    },
    {
      "cell_type": "code",
      "source": [
        "for x in temp1:\n",
        "    print(f\"El valor es {x}\")"
      ],
      "metadata": {
        "colab": {
          "base_uri": "https://localhost:8080/"
        },
        "id": "03g_yVkh0g7N",
        "outputId": "cd0c5f4b-6ece-4136-9d6a-2104a4dab65d"
      },
      "execution_count": 31,
      "outputs": [
        {
          "output_type": "stream",
          "name": "stdout",
          "text": [
            "El valor es 0\n",
            "El valor es 1\n",
            "El valor es 2\n",
            "El valor es 3\n",
            "El valor es 4\n",
            "El valor es 5\n",
            "El valor es 6\n",
            "El valor es 7\n",
            "El valor es 8\n",
            "El valor es 9\n",
            "El valor es 10\n",
            "El valor es 11\n",
            "El valor es 12\n",
            "El valor es 13\n",
            "El valor es 14\n",
            "El valor es 15\n",
            "El valor es 16\n",
            "El valor es 17\n",
            "El valor es 18\n",
            "El valor es 19\n",
            "El valor es 20\n",
            "El valor es 21\n",
            "El valor es 22\n",
            "El valor es 23\n",
            "El valor es 24\n",
            "El valor es 25\n",
            "El valor es 26\n",
            "El valor es 27\n",
            "El valor es 28\n",
            "El valor es 29\n",
            "El valor es 30\n",
            "El valor es 31\n",
            "El valor es 32\n",
            "El valor es 33\n",
            "El valor es 34\n",
            "El valor es 35\n",
            "El valor es 36\n",
            "El valor es 37\n",
            "El valor es 38\n",
            "El valor es 39\n",
            "El valor es 40\n",
            "El valor es 41\n",
            "El valor es 42\n",
            "El valor es 43\n",
            "El valor es 44\n",
            "El valor es 45\n",
            "El valor es 46\n",
            "El valor es 47\n",
            "El valor es 48\n",
            "El valor es 49\n",
            "El valor es 50\n",
            "El valor es 51\n",
            "El valor es 52\n",
            "El valor es 53\n",
            "El valor es 54\n",
            "El valor es 55\n",
            "El valor es 56\n",
            "El valor es 57\n",
            "El valor es 58\n",
            "El valor es 59\n",
            "El valor es 60\n",
            "El valor es 61\n",
            "El valor es 62\n",
            "El valor es 63\n",
            "El valor es 64\n",
            "El valor es 65\n",
            "El valor es 66\n",
            "El valor es 67\n",
            "El valor es 68\n",
            "El valor es 69\n",
            "El valor es 70\n",
            "El valor es 71\n",
            "El valor es 72\n",
            "El valor es 73\n",
            "El valor es 74\n",
            "El valor es 75\n",
            "El valor es 76\n",
            "El valor es 77\n",
            "El valor es 78\n",
            "El valor es 79\n",
            "El valor es 80\n",
            "El valor es 81\n",
            "El valor es 82\n",
            "El valor es 83\n",
            "El valor es 84\n",
            "El valor es 85\n",
            "El valor es 86\n",
            "El valor es 87\n",
            "El valor es 88\n",
            "El valor es 89\n",
            "El valor es 90\n",
            "El valor es 91\n",
            "El valor es 92\n",
            "El valor es 93\n",
            "El valor es 94\n",
            "El valor es 95\n",
            "El valor es 96\n",
            "El valor es 97\n",
            "El valor es 98\n",
            "El valor es 99\n"
          ]
        }
      ]
    },
    {
      "cell_type": "code",
      "source": [],
      "metadata": {
        "id": "BVbbralu0xl_"
      },
      "execution_count": null,
      "outputs": []
    }
  ]
}